{
 "cells": [
  {
   "cell_type": "code",
   "execution_count": 3,
   "id": "4f7c8c18-f8f3-40ca-98dd-1a8a17ce49b5",
   "metadata": {},
   "outputs": [],
   "source": [
    "#fazendo mapa das melhores universidades do Nordeste \n",
    "import folium\n",
    "from folium import plugins\n"
   ]
  },
  {
   "cell_type": "code",
   "execution_count": 26,
   "id": "84cb35da-9b86-445d-90a7-ba1c475e38a4",
   "metadata": {},
   "outputs": [],
   "source": [
    "melhores_universidades_NE_nomes = ['UFPE','UFRN','UFBA','UFC','UFS','UFPB','UFPI','UFAL', 'UNIFOR-CE','UFCG' ]\n",
    "melhores_universidades_NE_coordenadas = [[-8.050830722926653, -34.95088120513184],[-5.834571292176543, -35.20272751398056],[-12.995284671650566, -38.52691495849831],\n",
    "                                       [-3.7470966215653325, -38.551581744318845],[-10.926181458208083, -37.1029079854568],[-7.137669958656185, -34.84594784005713],[-5.055102710748084, -42.79812258197445],\n",
    "  [-9.554137087340768, -35.77223992445186],   [-3.7686040060319947, -38.47800736100893], [-7.209347783628075, -35.91839907782766]]"
   ]
  },
  {
   "cell_type": "code",
   "execution_count": 30,
   "id": "b16b0fea-8ec5-4cbe-9052-e64813cbffd5",
   "metadata": {},
   "outputs": [],
   "source": [
    "melhores_universidades_mapa = folium.Map(location=[-8.050830722926653, -34.95088120513184],zoom_start=5\n",
    ",control_scale=True)\n"
   ]
  },
  {
   "cell_type": "code",
   "execution_count": 58,
   "id": "f9a47fe8-c376-48b8-99ca-95f1355f8b5a",
   "metadata": {},
   "outputs": [
    {
     "data": {
      "text/plain": [
       "<folium.raster_layers.TileLayer at 0x28ffe841110>"
      ]
     },
     "execution_count": 58,
     "metadata": {},
     "output_type": "execute_result"
    }
   ],
   "source": [
    "folium.TileLayer(\"Cartodb Positron\").add_to(melhores_universidades_mapa)\n"
   ]
  },
  {
   "cell_type": "code",
   "execution_count": 64,
   "id": "bd8ebe56-a830-4d34-896a-343e9b8bb87b",
   "metadata": {},
   "outputs": [],
   "source": [
    "for i in range(len(melhores_universidades_NE_coordenadas)):\n",
    "    coordenada = melhores_universidades_NE_coordenadas[i]\n",
    "    universidade = melhores_universidades_NE_nomes[i]\n",
    "    folium.Marker(coordenada,popup=universidade,icon = folium.Icon(icon='glyphicon glyphicon-book', color='black', icon_color='white', prefix='glyphicon')).add_to(melhores_universidades_mapa)\n",
    "melhores_universidades_mapa.save(\"melhores_universidades_NE.png\")"
   ]
  },
  {
   "cell_type": "code",
   "execution_count": null,
   "id": "37a33ef8-8300-4e5a-920d-8fde0a4d6153",
   "metadata": {},
   "outputs": [],
   "source": []
  },
  {
   "cell_type": "code",
   "execution_count": null,
   "id": "d9587e05-cd88-4f46-b460-7041da5dc48d",
   "metadata": {},
   "outputs": [],
   "source": []
  }
 ],
 "metadata": {
  "kernelspec": {
   "display_name": "Python 3 (ipykernel)",
   "language": "python",
   "name": "python3"
  },
  "language_info": {
   "codemirror_mode": {
    "name": "ipython",
    "version": 3
   },
   "file_extension": ".py",
   "mimetype": "text/x-python",
   "name": "python",
   "nbconvert_exporter": "python",
   "pygments_lexer": "ipython3",
   "version": "3.11.5"
  }
 },
 "nbformat": 4,
 "nbformat_minor": 5
}
